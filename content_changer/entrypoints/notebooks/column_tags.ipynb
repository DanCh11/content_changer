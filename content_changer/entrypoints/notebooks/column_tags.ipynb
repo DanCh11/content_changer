{
 "cells": [
  {
   "cell_type": "code",
   "execution_count": 6,
   "metadata": {
    "collapsed": true
   },
   "outputs": [],
   "source": [
    "import pandas as pd\n",
    "from content_changer.services.dataset_pipeline.dataset_transformer_pipeline import DatasetTransformerPipeline"
   ]
  },
  {
   "cell_type": "code",
   "execution_count": 7,
   "outputs": [],
   "source": [
    "path = '../../../data/dusseldorf.xlsx'\n",
    "columns = ['Makler', 'Verwalter', 'Projektentwickler']\n",
    "names_column = \"Ansprechpartner\"\n",
    "dtp = DatasetTransformerPipeline(path, names_column, columns)"
   ],
   "metadata": {
    "collapsed": false,
    "pycharm": {
     "name": "#%%\n"
    }
   }
  },
  {
   "cell_type": "code",
   "execution_count": 11,
   "outputs": [],
   "source": [
    "columns = ['Makler', 'Verwalter', 'Projektentwickler']\n",
    "tags_column_name = 'Tags'\n",
    "names_column = \"Ansprechpartner\""
   ],
   "metadata": {
    "collapsed": false,
    "pycharm": {
     "name": "#%%\n"
    }
   }
  },
  {
   "cell_type": "code",
   "execution_count": 8,
   "outputs": [
    {
     "data": {
      "text/plain": "          X                                               Name  \\\nStatus                                                           \nKalt    9.0                            Clotten Immobilien GmbH   \nKalt    9.0                    Brune Real Estate Management AG   \nKalt    9.0  Tatjana Bähr - Haus&Haus Immobilien - Immobili...   \nKalt    9.0  top-conception                  Die Immobilien...   \nKalt    8.0                             Rautenberg Real Estate   \n...     ...                                                ...   \nKalt    5.0        Gemeinnützige Wohnungs-Genossenschafts e.G.   \nKalt    5.0  Frank Baumann Immobilien und Organisationsbera...   \nKalt    5.0  EigenheimWelten Ges. für Massivhausbau mbH tow...   \nKalt    5.0                         KLaus Knop Immobilien e.K.   \nKalt    5.0                          BohlenConcept  Immobilien   \n\n                                     Adress               Straße      PLZ  \\\nStatus                                                                      \nKalt         Gengerstr. 6, 40239 Düsseldorf         Gengerstr. 6  40239.0   \nKalt      Kanzlerstraße 4, 40472 Düsseldorf      Kanzlerstraße 4  40472.0   \nKalt       Bismarck Passage 4, 40721 Hilden   Bismarck Passage 4  40721.0   \nKalt       Richratherstr. 195, 40723 Hilden   Richratherstr. 195  40723.0   \nKalt      Königsallee 60F, 40212 Düsseldorf      Königsallee 60F  40212.0   \n...                                     ...                  ...      ...   \nKalt                  Markt 36, 41460 Neuss             Markt 36  41460.0   \nKalt            Kanalstraße 31, 41460 Neuss       Kanalstraße 31  41460.0   \nKalt            Sperberweg 4 g, 41468 Neuss       Sperberweg 4 g  41468.0   \nKalt          Bismarckstr. 82, 41564 Kaarst      Bismarckstr. 82  41564.0   \nKalt    Unter den Hecken 30, 41539 Dormagen  Unter den Hecken 30  41539.0   \n\n             Stadt            Telefon                     EMail  \\\nStatus                                                            \nKalt    Düsseldorf      0211/66967777     immobilien@clotten.de   \nKalt    Düsseldorf       0211-90497-0     info@brune-gruppe.com   \nKalt        Hilden  49 2103 97 84 630       info@hausundhaus.de   \nKalt        Hilden      02173/1091191    info@top-conception.de   \nKalt    Düsseldorf   0211. 89 03 61 4       info@rautenberg.com   \n...            ...                ...                       ...   \nKalt         Neuss        02131/59960         info@gwg-neuss.de   \nKalt         Neuss     02131/76290-48      f.baumann@amarc21.de   \nKalt         Neuss     02131/ 7601550  info@eigenheim-welten.de   \nKalt        Kaarst        02131-67970        Info@klaus-knop.de   \nKalt      Dormagen    02133 / 244 190     info@bohlenconcept.de   \n\n                             Website  \\\nStatus                                 \nKalt                      clotten.de   \nKalt     http://www.brune-gruppe.com   \nKalt       http://www.hausundhaus.de   \nKalt    http://www.top-conception.de   \nKalt       http://www.rautenberg.com   \n...                              ...   \nKalt        https://www.gwg-neuss.de   \nKalt         https://www.immoorga.de   \nKalt             eigenheim-welten.de   \nKalt        http://www.klaus-knop.de   \nKalt     http://www.bohlenconcept.de   \n\n                                   Ansprechpartner   Klasse  \\\nStatus                                                        \nKalt                                Thomas Clotten  Average   \nKalt                                  Walter Brune    Luxus   \nKalt                                  Tatjana Bähr  Average   \nKalt                                  Dirk Küppers  Average   \nKalt                               Lutz Rautenberg    Luxus   \n...                                            ...      ...   \nKalt    Dipl.-Ing. Ulrich Brombach, Stefan Zellnig  Average   \nKalt                                 Frank Baumann  Average   \nKalt                    Dipl.-Kfm. Hartmut Geuther  Average   \nKalt                                    Klaus Knop  Average   \nKalt                                  Peter Bohlen  Average   \n\n                                   Instagram Account Link  \\\nStatus                                                      \nKalt         https://www.instagram.com/clotten_immobilien   \nKalt                                                  NaN   \nKalt    https://www.instagram.com/hausundhaus.immobilien/   \nKalt                                                  NaN   \nKalt                                                  NaN   \n...                                                   ...   \nKalt                                                  NaN   \nKalt                                                  NaN   \nKalt          https://www.instagram.com/town_country_haus   \nKalt                                                  NaN   \nKalt                                                  NaN   \n\n                                       Facebook Page Link  \\\nStatus                                                      \nKalt         https://www.facebook.com/Clotten.Immobilien/   \nKalt                                                  NaN   \nKalt                 https://www.facebook.com/hausundhaus   \nKalt            https://www.facebook.com/topconception.de   \nKalt                                                  NaN   \n...                                                   ...   \nKalt                                                  NaN   \nKalt           https://www.facebook.com/neusserimmobilien   \nKalt            https://www.facebook.com/EigenheimWelten/   \nKalt                                                  NaN   \nKalt    https://www.facebook.com/BOHLENCONCEPT-1058876...   \n\n                                          Tags  first_name   last_name  \nStatus                                                                  \nKalt                                  [Makler]      Thomas     Clotten  \nKalt               [Makler, Projektentwickler]      Walter       Brune  \nKalt    [Makler, Verwalter, Projektentwickler]     Tatjana        Bähr  \nKalt                                  [Makler]        Dirk     Küppers  \nKalt                                  [Makler]        Lutz  Rautenberg  \n...                                        ...         ...         ...  \nKalt                                  [Makler]  Dipl.-Ing.     Zellnig  \nKalt                                  [Makler]       Frank     Baumann  \nKalt                                  [Makler]  Dipl.-Kfm.     Geuther  \nKalt                                  [Makler]       Klaus        Knop  \nKalt                       [Makler, Verwalter]       Peter      Bohlen  \n\n[79 rows x 16 columns]",
      "text/html": "<div>\n<style scoped>\n    .dataframe tbody tr th:only-of-type {\n        vertical-align: middle;\n    }\n\n    .dataframe tbody tr th {\n        vertical-align: top;\n    }\n\n    .dataframe thead th {\n        text-align: right;\n    }\n</style>\n<table border=\"1\" class=\"dataframe\">\n  <thead>\n    <tr style=\"text-align: right;\">\n      <th></th>\n      <th>X</th>\n      <th>Name</th>\n      <th>Adress</th>\n      <th>Straße</th>\n      <th>PLZ</th>\n      <th>Stadt</th>\n      <th>Telefon</th>\n      <th>EMail</th>\n      <th>Website</th>\n      <th>Ansprechpartner</th>\n      <th>Klasse</th>\n      <th>Instagram Account Link</th>\n      <th>Facebook Page Link</th>\n      <th>Tags</th>\n      <th>first_name</th>\n      <th>last_name</th>\n    </tr>\n    <tr>\n      <th>Status</th>\n      <th></th>\n      <th></th>\n      <th></th>\n      <th></th>\n      <th></th>\n      <th></th>\n      <th></th>\n      <th></th>\n      <th></th>\n      <th></th>\n      <th></th>\n      <th></th>\n      <th></th>\n      <th></th>\n      <th></th>\n      <th></th>\n    </tr>\n  </thead>\n  <tbody>\n    <tr>\n      <th>Kalt</th>\n      <td>9.0</td>\n      <td>Clotten Immobilien GmbH</td>\n      <td>Gengerstr. 6, 40239 Düsseldorf</td>\n      <td>Gengerstr. 6</td>\n      <td>40239.0</td>\n      <td>Düsseldorf</td>\n      <td>0211/66967777</td>\n      <td>immobilien@clotten.de</td>\n      <td>clotten.de</td>\n      <td>Thomas Clotten</td>\n      <td>Average</td>\n      <td>https://www.instagram.com/clotten_immobilien</td>\n      <td>https://www.facebook.com/Clotten.Immobilien/</td>\n      <td>[Makler]</td>\n      <td>Thomas</td>\n      <td>Clotten</td>\n    </tr>\n    <tr>\n      <th>Kalt</th>\n      <td>9.0</td>\n      <td>Brune Real Estate Management AG</td>\n      <td>Kanzlerstraße 4, 40472 Düsseldorf</td>\n      <td>Kanzlerstraße 4</td>\n      <td>40472.0</td>\n      <td>Düsseldorf</td>\n      <td>0211-90497-0</td>\n      <td>info@brune-gruppe.com</td>\n      <td>http://www.brune-gruppe.com</td>\n      <td>Walter Brune</td>\n      <td>Luxus</td>\n      <td>NaN</td>\n      <td>NaN</td>\n      <td>[Makler, Projektentwickler]</td>\n      <td>Walter</td>\n      <td>Brune</td>\n    </tr>\n    <tr>\n      <th>Kalt</th>\n      <td>9.0</td>\n      <td>Tatjana Bähr - Haus&amp;Haus Immobilien - Immobili...</td>\n      <td>Bismarck Passage 4, 40721 Hilden</td>\n      <td>Bismarck Passage 4</td>\n      <td>40721.0</td>\n      <td>Hilden</td>\n      <td>49 2103 97 84 630</td>\n      <td>info@hausundhaus.de</td>\n      <td>http://www.hausundhaus.de</td>\n      <td>Tatjana Bähr</td>\n      <td>Average</td>\n      <td>https://www.instagram.com/hausundhaus.immobilien/</td>\n      <td>https://www.facebook.com/hausundhaus</td>\n      <td>[Makler, Verwalter, Projektentwickler]</td>\n      <td>Tatjana</td>\n      <td>Bähr</td>\n    </tr>\n    <tr>\n      <th>Kalt</th>\n      <td>9.0</td>\n      <td>top-conception                  Die Immobilien...</td>\n      <td>Richratherstr. 195, 40723 Hilden</td>\n      <td>Richratherstr. 195</td>\n      <td>40723.0</td>\n      <td>Hilden</td>\n      <td>02173/1091191</td>\n      <td>info@top-conception.de</td>\n      <td>http://www.top-conception.de</td>\n      <td>Dirk Küppers</td>\n      <td>Average</td>\n      <td>NaN</td>\n      <td>https://www.facebook.com/topconception.de</td>\n      <td>[Makler]</td>\n      <td>Dirk</td>\n      <td>Küppers</td>\n    </tr>\n    <tr>\n      <th>Kalt</th>\n      <td>8.0</td>\n      <td>Rautenberg Real Estate</td>\n      <td>Königsallee 60F, 40212 Düsseldorf</td>\n      <td>Königsallee 60F</td>\n      <td>40212.0</td>\n      <td>Düsseldorf</td>\n      <td>0211. 89 03 61 4</td>\n      <td>info@rautenberg.com</td>\n      <td>http://www.rautenberg.com</td>\n      <td>Lutz Rautenberg</td>\n      <td>Luxus</td>\n      <td>NaN</td>\n      <td>NaN</td>\n      <td>[Makler]</td>\n      <td>Lutz</td>\n      <td>Rautenberg</td>\n    </tr>\n    <tr>\n      <th>...</th>\n      <td>...</td>\n      <td>...</td>\n      <td>...</td>\n      <td>...</td>\n      <td>...</td>\n      <td>...</td>\n      <td>...</td>\n      <td>...</td>\n      <td>...</td>\n      <td>...</td>\n      <td>...</td>\n      <td>...</td>\n      <td>...</td>\n      <td>...</td>\n      <td>...</td>\n      <td>...</td>\n    </tr>\n    <tr>\n      <th>Kalt</th>\n      <td>5.0</td>\n      <td>Gemeinnützige Wohnungs-Genossenschafts e.G.</td>\n      <td>Markt 36, 41460 Neuss</td>\n      <td>Markt 36</td>\n      <td>41460.0</td>\n      <td>Neuss</td>\n      <td>02131/59960</td>\n      <td>info@gwg-neuss.de</td>\n      <td>https://www.gwg-neuss.de</td>\n      <td>Dipl.-Ing. Ulrich Brombach, Stefan Zellnig</td>\n      <td>Average</td>\n      <td>NaN</td>\n      <td>NaN</td>\n      <td>[Makler]</td>\n      <td>Dipl.-Ing.</td>\n      <td>Zellnig</td>\n    </tr>\n    <tr>\n      <th>Kalt</th>\n      <td>5.0</td>\n      <td>Frank Baumann Immobilien und Organisationsbera...</td>\n      <td>Kanalstraße 31, 41460 Neuss</td>\n      <td>Kanalstraße 31</td>\n      <td>41460.0</td>\n      <td>Neuss</td>\n      <td>02131/76290-48</td>\n      <td>f.baumann@amarc21.de</td>\n      <td>https://www.immoorga.de</td>\n      <td>Frank Baumann</td>\n      <td>Average</td>\n      <td>NaN</td>\n      <td>https://www.facebook.com/neusserimmobilien</td>\n      <td>[Makler]</td>\n      <td>Frank</td>\n      <td>Baumann</td>\n    </tr>\n    <tr>\n      <th>Kalt</th>\n      <td>5.0</td>\n      <td>EigenheimWelten Ges. für Massivhausbau mbH tow...</td>\n      <td>Sperberweg 4 g, 41468 Neuss</td>\n      <td>Sperberweg 4 g</td>\n      <td>41468.0</td>\n      <td>Neuss</td>\n      <td>02131/ 7601550</td>\n      <td>info@eigenheim-welten.de</td>\n      <td>eigenheim-welten.de</td>\n      <td>Dipl.-Kfm. Hartmut Geuther</td>\n      <td>Average</td>\n      <td>https://www.instagram.com/town_country_haus</td>\n      <td>https://www.facebook.com/EigenheimWelten/</td>\n      <td>[Makler]</td>\n      <td>Dipl.-Kfm.</td>\n      <td>Geuther</td>\n    </tr>\n    <tr>\n      <th>Kalt</th>\n      <td>5.0</td>\n      <td>KLaus Knop Immobilien e.K.</td>\n      <td>Bismarckstr. 82, 41564 Kaarst</td>\n      <td>Bismarckstr. 82</td>\n      <td>41564.0</td>\n      <td>Kaarst</td>\n      <td>02131-67970</td>\n      <td>Info@klaus-knop.de</td>\n      <td>http://www.klaus-knop.de</td>\n      <td>Klaus Knop</td>\n      <td>Average</td>\n      <td>NaN</td>\n      <td>NaN</td>\n      <td>[Makler]</td>\n      <td>Klaus</td>\n      <td>Knop</td>\n    </tr>\n    <tr>\n      <th>Kalt</th>\n      <td>5.0</td>\n      <td>BohlenConcept  Immobilien</td>\n      <td>Unter den Hecken 30, 41539 Dormagen</td>\n      <td>Unter den Hecken 30</td>\n      <td>41539.0</td>\n      <td>Dormagen</td>\n      <td>02133 / 244 190</td>\n      <td>info@bohlenconcept.de</td>\n      <td>http://www.bohlenconcept.de</td>\n      <td>Peter Bohlen</td>\n      <td>Average</td>\n      <td>NaN</td>\n      <td>https://www.facebook.com/BOHLENCONCEPT-1058876...</td>\n      <td>[Makler, Verwalter]</td>\n      <td>Peter</td>\n      <td>Bohlen</td>\n    </tr>\n  </tbody>\n</table>\n<p>79 rows × 16 columns</p>\n</div>"
     },
     "execution_count": 8,
     "metadata": {},
     "output_type": "execute_result"
    }
   ],
   "source": [
    "dtp.execute()"
   ],
   "metadata": {
    "collapsed": false,
    "pycharm": {
     "name": "#%%\n"
    }
   }
  },
  {
   "cell_type": "code",
   "execution_count": 13,
   "outputs": [
    {
     "data": {
      "text/plain": "          X                                               Name  \\\nStatus                                                           \nKalt    9.0                            Clotten Immobilien GmbH   \nKalt    9.0                    Brune Real Estate Management AG   \nKalt    9.0  Tatjana Bähr - Haus&Haus Immobilien - Immobili...   \nKalt    9.0  top-conception                  Die Immobilien...   \nKalt    8.0                             Rautenberg Real Estate   \n...     ...                                                ...   \nKalt    5.0        Gemeinnützige Wohnungs-Genossenschafts e.G.   \nKalt    5.0  Frank Baumann Immobilien und Organisationsbera...   \nKalt    5.0  EigenheimWelten Ges. für Massivhausbau mbH tow...   \nKalt    5.0                         KLaus Knop Immobilien e.K.   \nKalt    5.0                          BohlenConcept  Immobilien   \n\n                                     Adress               Straße      PLZ  \\\nStatus                                                                      \nKalt         Gengerstr. 6, 40239 Düsseldorf         Gengerstr. 6  40239.0   \nKalt      Kanzlerstraße 4, 40472 Düsseldorf      Kanzlerstraße 4  40472.0   \nKalt       Bismarck Passage 4, 40721 Hilden   Bismarck Passage 4  40721.0   \nKalt       Richratherstr. 195, 40723 Hilden   Richratherstr. 195  40723.0   \nKalt      Königsallee 60F, 40212 Düsseldorf      Königsallee 60F  40212.0   \n...                                     ...                  ...      ...   \nKalt                  Markt 36, 41460 Neuss             Markt 36  41460.0   \nKalt            Kanalstraße 31, 41460 Neuss       Kanalstraße 31  41460.0   \nKalt            Sperberweg 4 g, 41468 Neuss       Sperberweg 4 g  41468.0   \nKalt          Bismarckstr. 82, 41564 Kaarst      Bismarckstr. 82  41564.0   \nKalt    Unter den Hecken 30, 41539 Dormagen  Unter den Hecken 30  41539.0   \n\n             Stadt            Telefon                     EMail  \\\nStatus                                                            \nKalt    Düsseldorf      0211/66967777     immobilien@clotten.de   \nKalt    Düsseldorf       0211-90497-0     info@brune-gruppe.com   \nKalt        Hilden  49 2103 97 84 630       info@hausundhaus.de   \nKalt        Hilden      02173/1091191    info@top-conception.de   \nKalt    Düsseldorf   0211. 89 03 61 4       info@rautenberg.com   \n...            ...                ...                       ...   \nKalt         Neuss        02131/59960         info@gwg-neuss.de   \nKalt         Neuss     02131/76290-48      f.baumann@amarc21.de   \nKalt         Neuss     02131/ 7601550  info@eigenheim-welten.de   \nKalt        Kaarst        02131-67970        Info@klaus-knop.de   \nKalt      Dormagen    02133 / 244 190     info@bohlenconcept.de   \n\n                             Website  \\\nStatus                                 \nKalt                      clotten.de   \nKalt     http://www.brune-gruppe.com   \nKalt       http://www.hausundhaus.de   \nKalt    http://www.top-conception.de   \nKalt       http://www.rautenberg.com   \n...                              ...   \nKalt        https://www.gwg-neuss.de   \nKalt         https://www.immoorga.de   \nKalt             eigenheim-welten.de   \nKalt        http://www.klaus-knop.de   \nKalt     http://www.bohlenconcept.de   \n\n                                   Ansprechpartner   Klasse  \\\nStatus                                                        \nKalt                                Thomas Clotten  Average   \nKalt                                  Walter Brune    Luxus   \nKalt                                  Tatjana Bähr  Average   \nKalt                                  Dirk Küppers  Average   \nKalt                               Lutz Rautenberg    Luxus   \n...                                            ...      ...   \nKalt    Dipl.-Ing. Ulrich Brombach, Stefan Zellnig  Average   \nKalt                                 Frank Baumann  Average   \nKalt                    Dipl.-Kfm. Hartmut Geuther  Average   \nKalt                                    Klaus Knop  Average   \nKalt                                  Peter Bohlen  Average   \n\n                                   Instagram Account Link  \\\nStatus                                                      \nKalt         https://www.instagram.com/clotten_immobilien   \nKalt                                                  NaN   \nKalt    https://www.instagram.com/hausundhaus.immobilien/   \nKalt                                                  NaN   \nKalt                                                  NaN   \n...                                                   ...   \nKalt                                                  NaN   \nKalt                                                  NaN   \nKalt          https://www.instagram.com/town_country_haus   \nKalt                                                  NaN   \nKalt                                                  NaN   \n\n                                       Facebook Page Link  \\\nStatus                                                      \nKalt         https://www.facebook.com/Clotten.Immobilien/   \nKalt                                                  NaN   \nKalt                 https://www.facebook.com/hausundhaus   \nKalt            https://www.facebook.com/topconception.de   \nKalt                                                  NaN   \n...                                                   ...   \nKalt                                                  NaN   \nKalt           https://www.facebook.com/neusserimmobilien   \nKalt            https://www.facebook.com/EigenheimWelten/   \nKalt                                                  NaN   \nKalt    https://www.facebook.com/BOHLENCONCEPT-1058876...   \n\n                                          Tags  first_name   last_name  \nStatus                                                                  \nKalt                                  [Makler]      Thomas     Clotten  \nKalt               [Makler, Projektentwickler]      Walter       Brune  \nKalt    [Makler, Verwalter, Projektentwickler]     Tatjana        Bähr  \nKalt                                  [Makler]        Dirk     Küppers  \nKalt                                  [Makler]        Lutz  Rautenberg  \n...                                        ...         ...         ...  \nKalt                                  [Makler]  Dipl.-Ing.     Zellnig  \nKalt                                  [Makler]       Frank     Baumann  \nKalt                                  [Makler]  Dipl.-Kfm.     Geuther  \nKalt                                  [Makler]       Klaus        Knop  \nKalt                       [Makler, Verwalter]       Peter      Bohlen  \n\n[79 rows x 16 columns]",
      "text/html": "<div>\n<style scoped>\n    .dataframe tbody tr th:only-of-type {\n        vertical-align: middle;\n    }\n\n    .dataframe tbody tr th {\n        vertical-align: top;\n    }\n\n    .dataframe thead th {\n        text-align: right;\n    }\n</style>\n<table border=\"1\" class=\"dataframe\">\n  <thead>\n    <tr style=\"text-align: right;\">\n      <th></th>\n      <th>X</th>\n      <th>Name</th>\n      <th>Adress</th>\n      <th>Straße</th>\n      <th>PLZ</th>\n      <th>Stadt</th>\n      <th>Telefon</th>\n      <th>EMail</th>\n      <th>Website</th>\n      <th>Ansprechpartner</th>\n      <th>Klasse</th>\n      <th>Instagram Account Link</th>\n      <th>Facebook Page Link</th>\n      <th>Tags</th>\n      <th>first_name</th>\n      <th>last_name</th>\n    </tr>\n    <tr>\n      <th>Status</th>\n      <th></th>\n      <th></th>\n      <th></th>\n      <th></th>\n      <th></th>\n      <th></th>\n      <th></th>\n      <th></th>\n      <th></th>\n      <th></th>\n      <th></th>\n      <th></th>\n      <th></th>\n      <th></th>\n      <th></th>\n      <th></th>\n    </tr>\n  </thead>\n  <tbody>\n    <tr>\n      <th>Kalt</th>\n      <td>9.0</td>\n      <td>Clotten Immobilien GmbH</td>\n      <td>Gengerstr. 6, 40239 Düsseldorf</td>\n      <td>Gengerstr. 6</td>\n      <td>40239.0</td>\n      <td>Düsseldorf</td>\n      <td>0211/66967777</td>\n      <td>immobilien@clotten.de</td>\n      <td>clotten.de</td>\n      <td>Thomas Clotten</td>\n      <td>Average</td>\n      <td>https://www.instagram.com/clotten_immobilien</td>\n      <td>https://www.facebook.com/Clotten.Immobilien/</td>\n      <td>[Makler]</td>\n      <td>Thomas</td>\n      <td>Clotten</td>\n    </tr>\n    <tr>\n      <th>Kalt</th>\n      <td>9.0</td>\n      <td>Brune Real Estate Management AG</td>\n      <td>Kanzlerstraße 4, 40472 Düsseldorf</td>\n      <td>Kanzlerstraße 4</td>\n      <td>40472.0</td>\n      <td>Düsseldorf</td>\n      <td>0211-90497-0</td>\n      <td>info@brune-gruppe.com</td>\n      <td>http://www.brune-gruppe.com</td>\n      <td>Walter Brune</td>\n      <td>Luxus</td>\n      <td>NaN</td>\n      <td>NaN</td>\n      <td>[Makler, Projektentwickler]</td>\n      <td>Walter</td>\n      <td>Brune</td>\n    </tr>\n    <tr>\n      <th>Kalt</th>\n      <td>9.0</td>\n      <td>Tatjana Bähr - Haus&amp;Haus Immobilien - Immobili...</td>\n      <td>Bismarck Passage 4, 40721 Hilden</td>\n      <td>Bismarck Passage 4</td>\n      <td>40721.0</td>\n      <td>Hilden</td>\n      <td>49 2103 97 84 630</td>\n      <td>info@hausundhaus.de</td>\n      <td>http://www.hausundhaus.de</td>\n      <td>Tatjana Bähr</td>\n      <td>Average</td>\n      <td>https://www.instagram.com/hausundhaus.immobilien/</td>\n      <td>https://www.facebook.com/hausundhaus</td>\n      <td>[Makler, Verwalter, Projektentwickler]</td>\n      <td>Tatjana</td>\n      <td>Bähr</td>\n    </tr>\n    <tr>\n      <th>Kalt</th>\n      <td>9.0</td>\n      <td>top-conception                  Die Immobilien...</td>\n      <td>Richratherstr. 195, 40723 Hilden</td>\n      <td>Richratherstr. 195</td>\n      <td>40723.0</td>\n      <td>Hilden</td>\n      <td>02173/1091191</td>\n      <td>info@top-conception.de</td>\n      <td>http://www.top-conception.de</td>\n      <td>Dirk Küppers</td>\n      <td>Average</td>\n      <td>NaN</td>\n      <td>https://www.facebook.com/topconception.de</td>\n      <td>[Makler]</td>\n      <td>Dirk</td>\n      <td>Küppers</td>\n    </tr>\n    <tr>\n      <th>Kalt</th>\n      <td>8.0</td>\n      <td>Rautenberg Real Estate</td>\n      <td>Königsallee 60F, 40212 Düsseldorf</td>\n      <td>Königsallee 60F</td>\n      <td>40212.0</td>\n      <td>Düsseldorf</td>\n      <td>0211. 89 03 61 4</td>\n      <td>info@rautenberg.com</td>\n      <td>http://www.rautenberg.com</td>\n      <td>Lutz Rautenberg</td>\n      <td>Luxus</td>\n      <td>NaN</td>\n      <td>NaN</td>\n      <td>[Makler]</td>\n      <td>Lutz</td>\n      <td>Rautenberg</td>\n    </tr>\n    <tr>\n      <th>...</th>\n      <td>...</td>\n      <td>...</td>\n      <td>...</td>\n      <td>...</td>\n      <td>...</td>\n      <td>...</td>\n      <td>...</td>\n      <td>...</td>\n      <td>...</td>\n      <td>...</td>\n      <td>...</td>\n      <td>...</td>\n      <td>...</td>\n      <td>...</td>\n      <td>...</td>\n      <td>...</td>\n    </tr>\n    <tr>\n      <th>Kalt</th>\n      <td>5.0</td>\n      <td>Gemeinnützige Wohnungs-Genossenschafts e.G.</td>\n      <td>Markt 36, 41460 Neuss</td>\n      <td>Markt 36</td>\n      <td>41460.0</td>\n      <td>Neuss</td>\n      <td>02131/59960</td>\n      <td>info@gwg-neuss.de</td>\n      <td>https://www.gwg-neuss.de</td>\n      <td>Dipl.-Ing. Ulrich Brombach, Stefan Zellnig</td>\n      <td>Average</td>\n      <td>NaN</td>\n      <td>NaN</td>\n      <td>[Makler]</td>\n      <td>Dipl.-Ing.</td>\n      <td>Zellnig</td>\n    </tr>\n    <tr>\n      <th>Kalt</th>\n      <td>5.0</td>\n      <td>Frank Baumann Immobilien und Organisationsbera...</td>\n      <td>Kanalstraße 31, 41460 Neuss</td>\n      <td>Kanalstraße 31</td>\n      <td>41460.0</td>\n      <td>Neuss</td>\n      <td>02131/76290-48</td>\n      <td>f.baumann@amarc21.de</td>\n      <td>https://www.immoorga.de</td>\n      <td>Frank Baumann</td>\n      <td>Average</td>\n      <td>NaN</td>\n      <td>https://www.facebook.com/neusserimmobilien</td>\n      <td>[Makler]</td>\n      <td>Frank</td>\n      <td>Baumann</td>\n    </tr>\n    <tr>\n      <th>Kalt</th>\n      <td>5.0</td>\n      <td>EigenheimWelten Ges. für Massivhausbau mbH tow...</td>\n      <td>Sperberweg 4 g, 41468 Neuss</td>\n      <td>Sperberweg 4 g</td>\n      <td>41468.0</td>\n      <td>Neuss</td>\n      <td>02131/ 7601550</td>\n      <td>info@eigenheim-welten.de</td>\n      <td>eigenheim-welten.de</td>\n      <td>Dipl.-Kfm. Hartmut Geuther</td>\n      <td>Average</td>\n      <td>https://www.instagram.com/town_country_haus</td>\n      <td>https://www.facebook.com/EigenheimWelten/</td>\n      <td>[Makler]</td>\n      <td>Dipl.-Kfm.</td>\n      <td>Geuther</td>\n    </tr>\n    <tr>\n      <th>Kalt</th>\n      <td>5.0</td>\n      <td>KLaus Knop Immobilien e.K.</td>\n      <td>Bismarckstr. 82, 41564 Kaarst</td>\n      <td>Bismarckstr. 82</td>\n      <td>41564.0</td>\n      <td>Kaarst</td>\n      <td>02131-67970</td>\n      <td>Info@klaus-knop.de</td>\n      <td>http://www.klaus-knop.de</td>\n      <td>Klaus Knop</td>\n      <td>Average</td>\n      <td>NaN</td>\n      <td>NaN</td>\n      <td>[Makler]</td>\n      <td>Klaus</td>\n      <td>Knop</td>\n    </tr>\n    <tr>\n      <th>Kalt</th>\n      <td>5.0</td>\n      <td>BohlenConcept  Immobilien</td>\n      <td>Unter den Hecken 30, 41539 Dormagen</td>\n      <td>Unter den Hecken 30</td>\n      <td>41539.0</td>\n      <td>Dormagen</td>\n      <td>02133 / 244 190</td>\n      <td>info@bohlenconcept.de</td>\n      <td>http://www.bohlenconcept.de</td>\n      <td>Peter Bohlen</td>\n      <td>Average</td>\n      <td>NaN</td>\n      <td>https://www.facebook.com/BOHLENCONCEPT-1058876...</td>\n      <td>[Makler, Verwalter]</td>\n      <td>Peter</td>\n      <td>Bohlen</td>\n    </tr>\n  </tbody>\n</table>\n<p>79 rows × 16 columns</p>\n</div>"
     },
     "execution_count": 13,
     "metadata": {},
     "output_type": "execute_result"
    }
   ],
   "source": [
    "dtp.split_names(names_column)"
   ],
   "metadata": {
    "collapsed": false,
    "pycharm": {
     "name": "#%%\n"
    }
   }
  },
  {
   "cell_type": "code",
   "execution_count": 177,
   "outputs": [
    {
     "data": {
      "text/plain": "        Makler  Verwalter  Projektentwickler\nStatus                                      \nKalt    Makler                              \nKalt    Makler             Projektentwickler\nKalt    Makler  Verwalter  Projektentwickler\nKalt    Makler                              \nKalt    Makler                              \n...        ...        ...                ...\nKalt    Makler                              \nKalt    Makler                              \nKalt    Makler                              \nKalt    Makler                              \nKalt    Makler  Verwalter                   \n\n[79 rows x 3 columns]",
      "text/html": "<div>\n<style scoped>\n    .dataframe tbody tr th:only-of-type {\n        vertical-align: middle;\n    }\n\n    .dataframe tbody tr th {\n        vertical-align: top;\n    }\n\n    .dataframe thead th {\n        text-align: right;\n    }\n</style>\n<table border=\"1\" class=\"dataframe\">\n  <thead>\n    <tr style=\"text-align: right;\">\n      <th></th>\n      <th>Makler</th>\n      <th>Verwalter</th>\n      <th>Projektentwickler</th>\n    </tr>\n    <tr>\n      <th>Status</th>\n      <th></th>\n      <th></th>\n      <th></th>\n    </tr>\n  </thead>\n  <tbody>\n    <tr>\n      <th>Kalt</th>\n      <td>Makler</td>\n      <td></td>\n      <td></td>\n    </tr>\n    <tr>\n      <th>Kalt</th>\n      <td>Makler</td>\n      <td></td>\n      <td>Projektentwickler</td>\n    </tr>\n    <tr>\n      <th>Kalt</th>\n      <td>Makler</td>\n      <td>Verwalter</td>\n      <td>Projektentwickler</td>\n    </tr>\n    <tr>\n      <th>Kalt</th>\n      <td>Makler</td>\n      <td></td>\n      <td></td>\n    </tr>\n    <tr>\n      <th>Kalt</th>\n      <td>Makler</td>\n      <td></td>\n      <td></td>\n    </tr>\n    <tr>\n      <th>...</th>\n      <td>...</td>\n      <td>...</td>\n      <td>...</td>\n    </tr>\n    <tr>\n      <th>Kalt</th>\n      <td>Makler</td>\n      <td></td>\n      <td></td>\n    </tr>\n    <tr>\n      <th>Kalt</th>\n      <td>Makler</td>\n      <td></td>\n      <td></td>\n    </tr>\n    <tr>\n      <th>Kalt</th>\n      <td>Makler</td>\n      <td></td>\n      <td></td>\n    </tr>\n    <tr>\n      <th>Kalt</th>\n      <td>Makler</td>\n      <td></td>\n      <td></td>\n    </tr>\n    <tr>\n      <th>Kalt</th>\n      <td>Makler</td>\n      <td>Verwalter</td>\n      <td></td>\n    </tr>\n  </tbody>\n</table>\n<p>79 rows × 3 columns</p>\n</div>"
     },
     "execution_count": 177,
     "metadata": {},
     "output_type": "execute_result"
    }
   ],
   "source": [
    "makler"
   ],
   "metadata": {
    "collapsed": false,
    "pycharm": {
     "name": "#%%\n"
    }
   }
  },
  {
   "cell_type": "code",
   "execution_count": 172,
   "outputs": [
    {
     "ename": "TypeError",
     "evalue": "list indices must be integers or slices, not list",
     "output_type": "error",
     "traceback": [
      "\u001B[0;31m---------------------------------------------------------------------------\u001B[0m",
      "\u001B[0;31mTypeError\u001B[0m                                 Traceback (most recent call last)",
      "Input \u001B[0;32mIn [172]\u001B[0m, in \u001B[0;36m<module>\u001B[0;34m\u001B[0m\n\u001B[0;32m----> 1\u001B[0m makler[\u001B[38;5;124m'\u001B[39m\u001B[38;5;124mTags\u001B[39m\u001B[38;5;124m'\u001B[39m] \u001B[38;5;241m=\u001B[39m \u001B[43mmakler\u001B[49m\u001B[43m[\u001B[49m\u001B[43mcolumns\u001B[49m\u001B[43m]\u001B[49m\u001B[38;5;241m.\u001B[39magg(\u001B[38;5;124m'\u001B[39m\u001B[38;5;124m, \u001B[39m\u001B[38;5;124m'\u001B[39m\u001B[38;5;241m.\u001B[39mjoin, axis\u001B[38;5;241m=\u001B[39m\u001B[38;5;241m1\u001B[39m)\n\u001B[1;32m      2\u001B[0m makler\n",
      "\u001B[0;31mTypeError\u001B[0m: list indices must be integers or slices, not list"
     ]
    }
   ],
   "source": [
    "makler['Tags'] = makler[columns].agg(', '.join, axis=1)\n",
    "makler"
   ],
   "metadata": {
    "collapsed": false,
    "pycharm": {
     "name": "#%%\n"
    }
   }
  },
  {
   "cell_type": "code",
   "execution_count": 173,
   "outputs": [
    {
     "ename": "TypeError",
     "evalue": "list indices must be integers or slices, not str",
     "output_type": "error",
     "traceback": [
      "\u001B[0;31m---------------------------------------------------------------------------\u001B[0m",
      "\u001B[0;31mTypeError\u001B[0m                                 Traceback (most recent call last)",
      "Input \u001B[0;32mIn [173]\u001B[0m, in \u001B[0;36m<module>\u001B[0;34m\u001B[0m\n\u001B[0;32m----> 1\u001B[0m makler[\u001B[38;5;124m'\u001B[39m\u001B[38;5;124mTags\u001B[39m\u001B[38;5;124m'\u001B[39m] \u001B[38;5;241m=\u001B[39m \u001B[43mmakler\u001B[49m\u001B[43m[\u001B[49m\u001B[38;5;124;43m'\u001B[39;49m\u001B[38;5;124;43mTags\u001B[39;49m\u001B[38;5;124;43m'\u001B[39;49m\u001B[43m]\u001B[49m\u001B[38;5;241m.\u001B[39mstr\u001B[38;5;241m.\u001B[39msplit(\u001B[38;5;124m'\u001B[39m\u001B[38;5;124m, \u001B[39m\u001B[38;5;124m'\u001B[39m)\n\u001B[1;32m      2\u001B[0m makler\n",
      "\u001B[0;31mTypeError\u001B[0m: list indices must be integers or slices, not str"
     ]
    }
   ],
   "source": [
    "makler['Tags'] = makler['Tags'].str.split(', ')\n",
    "makler"
   ],
   "metadata": {
    "collapsed": false,
    "pycharm": {
     "name": "#%%\n"
    }
   }
  },
  {
   "cell_type": "code",
   "execution_count": 167,
   "outputs": [
    {
     "name": "stderr",
     "output_type": "stream",
     "text": [
      "/tmp/ipykernel_12885/450585711.py:6: SettingWithCopyWarning: \n",
      "A value is trying to be set on a copy of a slice from a DataFrame.\n",
      "Try using .loc[row_indexer,col_indexer] = value instead\n",
      "\n",
      "See the caveats in the documentation: https://pandas.pydata.org/pandas-docs/stable/user_guide/indexing.html#returning-a-view-versus-a-copy\n",
      "  makler['Tags'] = [list(filter(None, a)) for a in makler['Tags']]\n"
     ]
    },
    {
     "data": {
      "text/plain": "Status\nKalt                                  [Makler]\nKalt               [Makler, Projektentwickler]\nKalt    [Makler, Verwalter, Projektentwickler]\nKalt                                  [Makler]\nKalt                                  [Makler]\n                         ...                  \nKalt                                  [Makler]\nKalt                                  [Makler]\nKalt                                  [Makler]\nKalt                                  [Makler]\nKalt                       [Makler, Verwalter]\nName: Tags, Length: 79, dtype: object"
     },
     "execution_count": 167,
     "metadata": {},
     "output_type": "execute_result"
    }
   ],
   "source": [
    "makler['Tags'] = [list(filter(None, a)) for a in makler['Tags']]\n",
    "makler['Tags']"
   ],
   "metadata": {
    "collapsed": false,
    "pycharm": {
     "name": "#%%\n"
    }
   }
  },
  {
   "cell_type": "code",
   "execution_count": 40,
   "outputs": [
    {
     "data": {
      "text/plain": "            fullName  tag1    tag2          Tags first_name last_name\n0          bob dylan  good  cringe  good, cringe        bob     dylan\n1        dan chiriac   bad   based    bad, based        dan   chiriac\n2  joachim K. pastor  evil                evil,         NaN       NaN",
      "text/html": "<div>\n<style scoped>\n    .dataframe tbody tr th:only-of-type {\n        vertical-align: middle;\n    }\n\n    .dataframe tbody tr th {\n        vertical-align: top;\n    }\n\n    .dataframe thead th {\n        text-align: right;\n    }\n</style>\n<table border=\"1\" class=\"dataframe\">\n  <thead>\n    <tr style=\"text-align: right;\">\n      <th></th>\n      <th>fullName</th>\n      <th>tag1</th>\n      <th>tag2</th>\n      <th>Tags</th>\n      <th>first_name</th>\n      <th>last_name</th>\n    </tr>\n  </thead>\n  <tbody>\n    <tr>\n      <th>0</th>\n      <td>bob dylan</td>\n      <td>good</td>\n      <td>cringe</td>\n      <td>good, cringe</td>\n      <td>bob</td>\n      <td>dylan</td>\n    </tr>\n    <tr>\n      <th>1</th>\n      <td>dan chiriac</td>\n      <td>bad</td>\n      <td>based</td>\n      <td>bad, based</td>\n      <td>dan</td>\n      <td>chiriac</td>\n    </tr>\n    <tr>\n      <th>2</th>\n      <td>joachim K. pastor</td>\n      <td>evil</td>\n      <td></td>\n      <td>evil,</td>\n      <td>NaN</td>\n      <td>NaN</td>\n    </tr>\n  </tbody>\n</table>\n</div>"
     },
     "execution_count": 40,
     "metadata": {},
     "output_type": "execute_result"
    }
   ],
   "source": [
    "df[['first_name','last_name']] = df['fullName'].loc[df['fullName'].str.split().str.len() == 2].str.split(expand=True)\n",
    "df"
   ],
   "metadata": {
    "collapsed": false,
    "pycharm": {
     "name": "#%%\n"
    }
   }
  },
  {
   "cell_type": "code",
   "execution_count": 102,
   "outputs": [],
   "source": [
    "df['fullNameSplitLength'] = df['Ansprechpartner'].str.split().str.len()\n",
    "df['firstName'] = df['lastName'] = ''\n",
    "df.loc[\n",
    "  df['fullNameSplitLength'] >= 1,\n",
    "  'firstName'\n",
    "] = df.loc[df['fullNameSplitLength'] >= 1]['Ansprechpartner'].str.split().str[0]\n",
    "df.loc[\n",
    "  df['fullNameSplitLength'] >= 2,\n",
    "  'lastName'\n",
    "] = df.loc[df['fullNameSplitLength'] >= 2]['Ansprechpartner'].str.split().str[-1]"
   ],
   "metadata": {
    "collapsed": false,
    "pycharm": {
     "name": "#%%\n"
    }
   }
  },
  {
   "cell_type": "code",
   "execution_count": 104,
   "outputs": [
    {
     "data": {
      "text/plain": "         firstName    lastName                             Ansprechpartner\nStatus                                                                    \nKalt        Thomas     Clotten                              Thomas Clotten\nKalt        Walter       Brune                                Walter Brune\nKalt       Tatjana        Bähr                                Tatjana Bähr\nKalt          Dirk     Küppers                                Dirk Küppers\nKalt          Lutz  Rautenberg                             Lutz Rautenberg\n...            ...         ...                                         ...\nKalt    Dipl.-Ing.     Zellnig  Dipl.-Ing. Ulrich Brombach, Stefan Zellnig\nKalt         Frank     Baumann                               Frank Baumann\nKalt    Dipl.-Kfm.     Geuther                  Dipl.-Kfm. Hartmut Geuther\nKalt         Klaus        Knop                                  Klaus Knop\nKalt         Peter      Bohlen                                Peter Bohlen\n\n[79 rows x 3 columns]",
      "text/html": "<div>\n<style scoped>\n    .dataframe tbody tr th:only-of-type {\n        vertical-align: middle;\n    }\n\n    .dataframe tbody tr th {\n        vertical-align: top;\n    }\n\n    .dataframe thead th {\n        text-align: right;\n    }\n</style>\n<table border=\"1\" class=\"dataframe\">\n  <thead>\n    <tr style=\"text-align: right;\">\n      <th></th>\n      <th>firstName</th>\n      <th>lastName</th>\n      <th>Ansprechpartner</th>\n    </tr>\n    <tr>\n      <th>Status</th>\n      <th></th>\n      <th></th>\n      <th></th>\n    </tr>\n  </thead>\n  <tbody>\n    <tr>\n      <th>Kalt</th>\n      <td>Thomas</td>\n      <td>Clotten</td>\n      <td>Thomas Clotten</td>\n    </tr>\n    <tr>\n      <th>Kalt</th>\n      <td>Walter</td>\n      <td>Brune</td>\n      <td>Walter Brune</td>\n    </tr>\n    <tr>\n      <th>Kalt</th>\n      <td>Tatjana</td>\n      <td>Bähr</td>\n      <td>Tatjana Bähr</td>\n    </tr>\n    <tr>\n      <th>Kalt</th>\n      <td>Dirk</td>\n      <td>Küppers</td>\n      <td>Dirk Küppers</td>\n    </tr>\n    <tr>\n      <th>Kalt</th>\n      <td>Lutz</td>\n      <td>Rautenberg</td>\n      <td>Lutz Rautenberg</td>\n    </tr>\n    <tr>\n      <th>...</th>\n      <td>...</td>\n      <td>...</td>\n      <td>...</td>\n    </tr>\n    <tr>\n      <th>Kalt</th>\n      <td>Dipl.-Ing.</td>\n      <td>Zellnig</td>\n      <td>Dipl.-Ing. Ulrich Brombach, Stefan Zellnig</td>\n    </tr>\n    <tr>\n      <th>Kalt</th>\n      <td>Frank</td>\n      <td>Baumann</td>\n      <td>Frank Baumann</td>\n    </tr>\n    <tr>\n      <th>Kalt</th>\n      <td>Dipl.-Kfm.</td>\n      <td>Geuther</td>\n      <td>Dipl.-Kfm. Hartmut Geuther</td>\n    </tr>\n    <tr>\n      <th>Kalt</th>\n      <td>Klaus</td>\n      <td>Knop</td>\n      <td>Klaus Knop</td>\n    </tr>\n    <tr>\n      <th>Kalt</th>\n      <td>Peter</td>\n      <td>Bohlen</td>\n      <td>Peter Bohlen</td>\n    </tr>\n  </tbody>\n</table>\n<p>79 rows × 3 columns</p>\n</div>"
     },
     "execution_count": 104,
     "metadata": {},
     "output_type": "execute_result"
    }
   ],
   "source": [
    "df[['firstName', 'lastName', 'Ansprechpartner']]"
   ],
   "metadata": {
    "collapsed": false,
    "pycharm": {
     "name": "#%%\n"
    }
   }
  },
  {
   "cell_type": "code",
   "execution_count": null,
   "outputs": [],
   "source": [],
   "metadata": {
    "collapsed": false,
    "pycharm": {
     "name": "#%%\n"
    }
   }
  }
 ],
 "metadata": {
  "kernelspec": {
   "display_name": "Python 3",
   "language": "python",
   "name": "python3"
  },
  "language_info": {
   "codemirror_mode": {
    "name": "ipython",
    "version": 2
   },
   "file_extension": ".py",
   "mimetype": "text/x-python",
   "name": "python",
   "nbconvert_exporter": "python",
   "pygments_lexer": "ipython2",
   "version": "2.7.6"
  }
 },
 "nbformat": 4,
 "nbformat_minor": 0
}