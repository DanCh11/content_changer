{
 "cells": [
  {
   "cell_type": "code",
   "execution_count": 1,
   "metadata": {
    "collapsed": true
   },
   "outputs": [],
   "source": [
    "import pandas as pd"
   ]
  },
  {
   "cell_type": "code",
   "execution_count": 174,
   "outputs": [],
   "source": [
    "path = '../../../data/dusseldorf.xlsx'\n",
    "df = pd.read_excel(path, index_col=0)"
   ],
   "metadata": {
    "collapsed": false,
    "pycharm": {
     "name": "#%%\n"
    }
   }
  },
  {
   "cell_type": "code",
   "execution_count": 175,
   "outputs": [],
   "source": [
    "makler = df[['Makler', 'Verwalter', 'Projektentwickler']]"
   ],
   "metadata": {
    "collapsed": false,
    "pycharm": {
     "name": "#%%\n"
    }
   }
  },
  {
   "cell_type": "code",
   "execution_count": 176,
   "outputs": [
    {
     "name": "stderr",
     "output_type": "stream",
     "text": [
      "/tmp/ipykernel_12885/1775439701.py:4: SettingWithCopyWarning: \n",
      "A value is trying to be set on a copy of a slice from a DataFrame.\n",
      "Try using .loc[row_indexer,col_indexer] = value instead\n",
      "\n",
      "See the caveats in the documentation: https://pandas.pydata.org/pandas-docs/stable/user_guide/indexing.html#returning-a-view-versus-a-copy\n",
      "  makler[column] = makler[column].replace(['WAHR', False], [column, ''])\n"
     ]
    }
   ],
   "source": [
    "columns = ['Makler', 'Verwalter', 'Projektentwickler']\n",
    "\n",
    "for column in columns:\n",
    "    makler[column] = makler[column].replace(['WAHR', False], [column, ''])\n"
   ],
   "metadata": {
    "collapsed": false,
    "pycharm": {
     "name": "#%%\n"
    }
   }
  },
  {
   "cell_type": "code",
   "execution_count": 177,
   "outputs": [
    {
     "data": {
      "text/plain": "        Makler  Verwalter  Projektentwickler\nStatus                                      \nKalt    Makler                              \nKalt    Makler             Projektentwickler\nKalt    Makler  Verwalter  Projektentwickler\nKalt    Makler                              \nKalt    Makler                              \n...        ...        ...                ...\nKalt    Makler                              \nKalt    Makler                              \nKalt    Makler                              \nKalt    Makler                              \nKalt    Makler  Verwalter                   \n\n[79 rows x 3 columns]",
      "text/html": "<div>\n<style scoped>\n    .dataframe tbody tr th:only-of-type {\n        vertical-align: middle;\n    }\n\n    .dataframe tbody tr th {\n        vertical-align: top;\n    }\n\n    .dataframe thead th {\n        text-align: right;\n    }\n</style>\n<table border=\"1\" class=\"dataframe\">\n  <thead>\n    <tr style=\"text-align: right;\">\n      <th></th>\n      <th>Makler</th>\n      <th>Verwalter</th>\n      <th>Projektentwickler</th>\n    </tr>\n    <tr>\n      <th>Status</th>\n      <th></th>\n      <th></th>\n      <th></th>\n    </tr>\n  </thead>\n  <tbody>\n    <tr>\n      <th>Kalt</th>\n      <td>Makler</td>\n      <td></td>\n      <td></td>\n    </tr>\n    <tr>\n      <th>Kalt</th>\n      <td>Makler</td>\n      <td></td>\n      <td>Projektentwickler</td>\n    </tr>\n    <tr>\n      <th>Kalt</th>\n      <td>Makler</td>\n      <td>Verwalter</td>\n      <td>Projektentwickler</td>\n    </tr>\n    <tr>\n      <th>Kalt</th>\n      <td>Makler</td>\n      <td></td>\n      <td></td>\n    </tr>\n    <tr>\n      <th>Kalt</th>\n      <td>Makler</td>\n      <td></td>\n      <td></td>\n    </tr>\n    <tr>\n      <th>...</th>\n      <td>...</td>\n      <td>...</td>\n      <td>...</td>\n    </tr>\n    <tr>\n      <th>Kalt</th>\n      <td>Makler</td>\n      <td></td>\n      <td></td>\n    </tr>\n    <tr>\n      <th>Kalt</th>\n      <td>Makler</td>\n      <td></td>\n      <td></td>\n    </tr>\n    <tr>\n      <th>Kalt</th>\n      <td>Makler</td>\n      <td></td>\n      <td></td>\n    </tr>\n    <tr>\n      <th>Kalt</th>\n      <td>Makler</td>\n      <td></td>\n      <td></td>\n    </tr>\n    <tr>\n      <th>Kalt</th>\n      <td>Makler</td>\n      <td>Verwalter</td>\n      <td></td>\n    </tr>\n  </tbody>\n</table>\n<p>79 rows × 3 columns</p>\n</div>"
     },
     "execution_count": 177,
     "metadata": {},
     "output_type": "execute_result"
    }
   ],
   "source": [
    "makler"
   ],
   "metadata": {
    "collapsed": false,
    "pycharm": {
     "name": "#%%\n"
    }
   }
  },
  {
   "cell_type": "code",
   "execution_count": 172,
   "outputs": [
    {
     "ename": "TypeError",
     "evalue": "list indices must be integers or slices, not list",
     "output_type": "error",
     "traceback": [
      "\u001B[0;31m---------------------------------------------------------------------------\u001B[0m",
      "\u001B[0;31mTypeError\u001B[0m                                 Traceback (most recent call last)",
      "Input \u001B[0;32mIn [172]\u001B[0m, in \u001B[0;36m<module>\u001B[0;34m\u001B[0m\n\u001B[0;32m----> 1\u001B[0m makler[\u001B[38;5;124m'\u001B[39m\u001B[38;5;124mTags\u001B[39m\u001B[38;5;124m'\u001B[39m] \u001B[38;5;241m=\u001B[39m \u001B[43mmakler\u001B[49m\u001B[43m[\u001B[49m\u001B[43mcolumns\u001B[49m\u001B[43m]\u001B[49m\u001B[38;5;241m.\u001B[39magg(\u001B[38;5;124m'\u001B[39m\u001B[38;5;124m, \u001B[39m\u001B[38;5;124m'\u001B[39m\u001B[38;5;241m.\u001B[39mjoin, axis\u001B[38;5;241m=\u001B[39m\u001B[38;5;241m1\u001B[39m)\n\u001B[1;32m      2\u001B[0m makler\n",
      "\u001B[0;31mTypeError\u001B[0m: list indices must be integers or slices, not list"
     ]
    }
   ],
   "source": [
    "makler['Tags'] = makler[columns].agg(', '.join, axis=1)\n",
    "makler"
   ],
   "metadata": {
    "collapsed": false,
    "pycharm": {
     "name": "#%%\n"
    }
   }
  },
  {
   "cell_type": "code",
   "execution_count": 173,
   "outputs": [
    {
     "ename": "TypeError",
     "evalue": "list indices must be integers or slices, not str",
     "output_type": "error",
     "traceback": [
      "\u001B[0;31m---------------------------------------------------------------------------\u001B[0m",
      "\u001B[0;31mTypeError\u001B[0m                                 Traceback (most recent call last)",
      "Input \u001B[0;32mIn [173]\u001B[0m, in \u001B[0;36m<module>\u001B[0;34m\u001B[0m\n\u001B[0;32m----> 1\u001B[0m makler[\u001B[38;5;124m'\u001B[39m\u001B[38;5;124mTags\u001B[39m\u001B[38;5;124m'\u001B[39m] \u001B[38;5;241m=\u001B[39m \u001B[43mmakler\u001B[49m\u001B[43m[\u001B[49m\u001B[38;5;124;43m'\u001B[39;49m\u001B[38;5;124;43mTags\u001B[39;49m\u001B[38;5;124;43m'\u001B[39;49m\u001B[43m]\u001B[49m\u001B[38;5;241m.\u001B[39mstr\u001B[38;5;241m.\u001B[39msplit(\u001B[38;5;124m'\u001B[39m\u001B[38;5;124m, \u001B[39m\u001B[38;5;124m'\u001B[39m)\n\u001B[1;32m      2\u001B[0m makler\n",
      "\u001B[0;31mTypeError\u001B[0m: list indices must be integers or slices, not str"
     ]
    }
   ],
   "source": [
    "makler['Tags'] = makler['Tags'].str.split(', ')\n",
    "makler"
   ],
   "metadata": {
    "collapsed": false,
    "pycharm": {
     "name": "#%%\n"
    }
   }
  },
  {
   "cell_type": "code",
   "execution_count": 167,
   "outputs": [
    {
     "name": "stderr",
     "output_type": "stream",
     "text": [
      "/tmp/ipykernel_12885/450585711.py:6: SettingWithCopyWarning: \n",
      "A value is trying to be set on a copy of a slice from a DataFrame.\n",
      "Try using .loc[row_indexer,col_indexer] = value instead\n",
      "\n",
      "See the caveats in the documentation: https://pandas.pydata.org/pandas-docs/stable/user_guide/indexing.html#returning-a-view-versus-a-copy\n",
      "  makler['Tags'] = [list(filter(None, a)) for a in makler['Tags']]\n"
     ]
    },
    {
     "data": {
      "text/plain": "Status\nKalt                                  [Makler]\nKalt               [Makler, Projektentwickler]\nKalt    [Makler, Verwalter, Projektentwickler]\nKalt                                  [Makler]\nKalt                                  [Makler]\n                         ...                  \nKalt                                  [Makler]\nKalt                                  [Makler]\nKalt                                  [Makler]\nKalt                                  [Makler]\nKalt                       [Makler, Verwalter]\nName: Tags, Length: 79, dtype: object"
     },
     "execution_count": 167,
     "metadata": {},
     "output_type": "execute_result"
    }
   ],
   "source": [
    "makler['Tags'] = [list(filter(None, a)) for a in makler['Tags']]\n",
    "makler['Tags']"
   ],
   "metadata": {
    "collapsed": false,
    "pycharm": {
     "name": "#%%\n"
    }
   }
  },
  {
   "cell_type": "code",
   "execution_count": 40,
   "outputs": [
    {
     "data": {
      "text/plain": "            fullName  tag1    tag2          Tags first_name last_name\n0          bob dylan  good  cringe  good, cringe        bob     dylan\n1        dan chiriac   bad   based    bad, based        dan   chiriac\n2  joachim K. pastor  evil                evil,         NaN       NaN",
      "text/html": "<div>\n<style scoped>\n    .dataframe tbody tr th:only-of-type {\n        vertical-align: middle;\n    }\n\n    .dataframe tbody tr th {\n        vertical-align: top;\n    }\n\n    .dataframe thead th {\n        text-align: right;\n    }\n</style>\n<table border=\"1\" class=\"dataframe\">\n  <thead>\n    <tr style=\"text-align: right;\">\n      <th></th>\n      <th>fullName</th>\n      <th>tag1</th>\n      <th>tag2</th>\n      <th>Tags</th>\n      <th>first_name</th>\n      <th>last_name</th>\n    </tr>\n  </thead>\n  <tbody>\n    <tr>\n      <th>0</th>\n      <td>bob dylan</td>\n      <td>good</td>\n      <td>cringe</td>\n      <td>good, cringe</td>\n      <td>bob</td>\n      <td>dylan</td>\n    </tr>\n    <tr>\n      <th>1</th>\n      <td>dan chiriac</td>\n      <td>bad</td>\n      <td>based</td>\n      <td>bad, based</td>\n      <td>dan</td>\n      <td>chiriac</td>\n    </tr>\n    <tr>\n      <th>2</th>\n      <td>joachim K. pastor</td>\n      <td>evil</td>\n      <td></td>\n      <td>evil,</td>\n      <td>NaN</td>\n      <td>NaN</td>\n    </tr>\n  </tbody>\n</table>\n</div>"
     },
     "execution_count": 40,
     "metadata": {},
     "output_type": "execute_result"
    }
   ],
   "source": [
    "df[['first_name','last_name']] = df['fullName'].loc[df['fullName'].str.split().str.len() == 2].str.split(expand=True)\n",
    "df"
   ],
   "metadata": {
    "collapsed": false,
    "pycharm": {
     "name": "#%%\n"
    }
   }
  },
  {
   "cell_type": "code",
   "execution_count": 102,
   "outputs": [],
   "source": [
    "df['fullNameSplitLength'] = df['Ansprechpartner'].str.split().str.len()\n",
    "df['firstName'] = df['lastName'] = ''\n",
    "df.loc[\n",
    "  df['fullNameSplitLength'] >= 1,\n",
    "  'firstName'\n",
    "] = df.loc[df['fullNameSplitLength'] >= 1]['Ansprechpartner'].str.split().str[0]\n",
    "df.loc[\n",
    "  df['fullNameSplitLength'] >= 2,\n",
    "  'lastName'\n",
    "] = df.loc[df['fullNameSplitLength'] >= 2]['Ansprechpartner'].str.split().str[-1]"
   ],
   "metadata": {
    "collapsed": false,
    "pycharm": {
     "name": "#%%\n"
    }
   }
  },
  {
   "cell_type": "code",
   "execution_count": 104,
   "outputs": [
    {
     "data": {
      "text/plain": "         firstName    lastName                             Ansprechpartner\nStatus                                                                    \nKalt        Thomas     Clotten                              Thomas Clotten\nKalt        Walter       Brune                                Walter Brune\nKalt       Tatjana        Bähr                                Tatjana Bähr\nKalt          Dirk     Küppers                                Dirk Küppers\nKalt          Lutz  Rautenberg                             Lutz Rautenberg\n...            ...         ...                                         ...\nKalt    Dipl.-Ing.     Zellnig  Dipl.-Ing. Ulrich Brombach, Stefan Zellnig\nKalt         Frank     Baumann                               Frank Baumann\nKalt    Dipl.-Kfm.     Geuther                  Dipl.-Kfm. Hartmut Geuther\nKalt         Klaus        Knop                                  Klaus Knop\nKalt         Peter      Bohlen                                Peter Bohlen\n\n[79 rows x 3 columns]",
      "text/html": "<div>\n<style scoped>\n    .dataframe tbody tr th:only-of-type {\n        vertical-align: middle;\n    }\n\n    .dataframe tbody tr th {\n        vertical-align: top;\n    }\n\n    .dataframe thead th {\n        text-align: right;\n    }\n</style>\n<table border=\"1\" class=\"dataframe\">\n  <thead>\n    <tr style=\"text-align: right;\">\n      <th></th>\n      <th>firstName</th>\n      <th>lastName</th>\n      <th>Ansprechpartner</th>\n    </tr>\n    <tr>\n      <th>Status</th>\n      <th></th>\n      <th></th>\n      <th></th>\n    </tr>\n  </thead>\n  <tbody>\n    <tr>\n      <th>Kalt</th>\n      <td>Thomas</td>\n      <td>Clotten</td>\n      <td>Thomas Clotten</td>\n    </tr>\n    <tr>\n      <th>Kalt</th>\n      <td>Walter</td>\n      <td>Brune</td>\n      <td>Walter Brune</td>\n    </tr>\n    <tr>\n      <th>Kalt</th>\n      <td>Tatjana</td>\n      <td>Bähr</td>\n      <td>Tatjana Bähr</td>\n    </tr>\n    <tr>\n      <th>Kalt</th>\n      <td>Dirk</td>\n      <td>Küppers</td>\n      <td>Dirk Küppers</td>\n    </tr>\n    <tr>\n      <th>Kalt</th>\n      <td>Lutz</td>\n      <td>Rautenberg</td>\n      <td>Lutz Rautenberg</td>\n    </tr>\n    <tr>\n      <th>...</th>\n      <td>...</td>\n      <td>...</td>\n      <td>...</td>\n    </tr>\n    <tr>\n      <th>Kalt</th>\n      <td>Dipl.-Ing.</td>\n      <td>Zellnig</td>\n      <td>Dipl.-Ing. Ulrich Brombach, Stefan Zellnig</td>\n    </tr>\n    <tr>\n      <th>Kalt</th>\n      <td>Frank</td>\n      <td>Baumann</td>\n      <td>Frank Baumann</td>\n    </tr>\n    <tr>\n      <th>Kalt</th>\n      <td>Dipl.-Kfm.</td>\n      <td>Geuther</td>\n      <td>Dipl.-Kfm. Hartmut Geuther</td>\n    </tr>\n    <tr>\n      <th>Kalt</th>\n      <td>Klaus</td>\n      <td>Knop</td>\n      <td>Klaus Knop</td>\n    </tr>\n    <tr>\n      <th>Kalt</th>\n      <td>Peter</td>\n      <td>Bohlen</td>\n      <td>Peter Bohlen</td>\n    </tr>\n  </tbody>\n</table>\n<p>79 rows × 3 columns</p>\n</div>"
     },
     "execution_count": 104,
     "metadata": {},
     "output_type": "execute_result"
    }
   ],
   "source": [
    "df[['firstName', 'lastName', 'Ansprechpartner']]"
   ],
   "metadata": {
    "collapsed": false,
    "pycharm": {
     "name": "#%%\n"
    }
   }
  },
  {
   "cell_type": "code",
   "execution_count": null,
   "outputs": [],
   "source": [],
   "metadata": {
    "collapsed": false,
    "pycharm": {
     "name": "#%%\n"
    }
   }
  }
 ],
 "metadata": {
  "kernelspec": {
   "display_name": "Python 3",
   "language": "python",
   "name": "python3"
  },
  "language_info": {
   "codemirror_mode": {
    "name": "ipython",
    "version": 2
   },
   "file_extension": ".py",
   "mimetype": "text/x-python",
   "name": "python",
   "nbconvert_exporter": "python",
   "pygments_lexer": "ipython2",
   "version": "2.7.6"
  }
 },
 "nbformat": 4,
 "nbformat_minor": 0
}